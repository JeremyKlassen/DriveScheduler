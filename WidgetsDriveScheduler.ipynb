{
 "cells": [
  {
   "cell_type": "markdown",
   "metadata": {},
   "source": [
    "# Drive Scheduler"
   ]
  },
  {
   "cell_type": "markdown",
   "metadata": {},
   "source": [
    "### Library imports, initial setups and functions"
   ]
  },
  {
   "cell_type": "code",
   "execution_count": 198,
   "metadata": {},
   "outputs": [
    {
     "data": {
      "application/vnd.jupyter.widget-view+json": {
       "model_id": "b77b06f975b0497c8cd4b781cafb5f87",
       "version_major": 2,
       "version_minor": 0
      },
      "text/plain": [
       "Accordion(children=(GridBox(children=(Checkbox(value=True, description='jeremyklassen'), Checkbox(value=True, …"
      ]
     },
     "metadata": {},
     "output_type": "display_data"
    }
   ],
   "source": [
    "# Create imports\n",
    "import pandas as pd\n",
    "import random\n",
    "import ipywidgets as widgets\n",
    "\n",
    "# Read excel tables into python\n",
    "drivers = pd.read_excel('data.xlsx', sheet_name='drivers')\n",
    "clients = pd.read_excel('data.xlsx', sheet_name='clients')\n",
    "distances = pd.read_excel('data.xlsx', sheet_name='distances')\n",
    "distances = distances.set_index(distances.columns[0])\n",
    "\n",
    "# create Arrays of client and driver ids.\n",
    "clientId = []\n",
    "for row in clients.iterrows():\n",
    "    clientId.append(row[1]['id'])\n",
    "driverId = []\n",
    "for row in drivers.iterrows():\n",
    "    driverId.append(row[1]['id'])\n",
    "\n",
    "\n",
    "# Variables\n",
    "currentClients = clientId.copy()\n",
    "currentDrivers = driverId.copy()\n",
    "schedule = {}\n",
    "\n",
    "# Initialize schedule dictionary\n",
    "for driver in currentDrivers:\n",
    "    schedule.update({driver:\"\"})\n",
    "    \n",
    "# Creates new tables based on current Clients/Drivers arrayss\n",
    "def ClientsTable(currentClients, clients):\n",
    "    newTable = clients[clients[\"id\"].isin(currentClients)]\n",
    "    return newTable\n",
    "\n",
    "def DriversTable(driversClients, drivers):\n",
    "    newTable = drivers[drivers[\"id\"].isin(currentDrivers)]\n",
    "    return newTable\n",
    "\n",
    "\n",
    "# Creates Checkbox menus\n",
    "def CreateMenus():\n",
    "    currentClients = clientId.copy()\n",
    "    currentDrivers = driverId.copy()\n",
    "\n",
    "    checkboxesClients = [widgets.Checkbox(value=True, description=label) for label in currentClients]\n",
    "    outputClients = widgets.widgets.GridBox(children=checkboxesClients)\n",
    "\n",
    "    checkboxesDrivers = [widgets.Checkbox(value=True, description=label) for label in currentDrivers]\n",
    "    outputDrivers = widgets.widgets.GridBox(children=checkboxesDrivers)\n",
    "\n",
    "    accordion = widgets.Accordion(children=[outputClients, outputDrivers])\n",
    "    accordion.set_title(0, 'Clients')\n",
    "    accordion.set_title(1, 'Drivers')\n",
    "    return accordion\n",
    "\n",
    "accordion = CreateMenus()\n",
    "accordion"
   ]
  },
  {
   "cell_type": "code",
   "execution_count": 207,
   "metadata": {},
   "outputs": [],
   "source": [
    "#Code to update the current Drivers and Clients based on the Checkboxes.\n",
    "currentClients = []\n",
    "currentDrivers = []\n",
    "\n",
    "for i in range(0, len(checkboxesClients)):\n",
    "    if checkboxesClients[i].value == True:\n",
    "        currentClients = currentClients + [checkboxesClients[i].description]\n",
    "for i in range(0, len(checkboxesDrivers)):\n",
    "    if checkboxesDrivers[i].value == True:\n",
    "        currentDrivers = currentDrivers + [checkboxesDrivers[i].description]\n",
    "clientFrame = ClientsTable(currentClients, clients)\n",
    "driverFrame = DriversTable(currentDrivers, drivers)"
   ]
  },
  {
   "cell_type": "markdown",
   "metadata": {},
   "source": [
    "### Scheduler Functions"
   ]
  },
  {
   "cell_type": "code",
   "execution_count": 204,
   "metadata": {
    "tags": []
   },
   "outputs": [],
   "source": [
    "#Creates a Schedule using a greedy modelled algorithm\n",
    "def Schedule(currentDrivers, currentClients):\n",
    "    #initial Variable Creation\n",
    "    currentDriverTable = DriversTable(currentDrivers, drivers)\n",
    "    currentClientTable = ClientsTable(currentClients, clients)\n",
    "    newSchedule = {}\n",
    "    # Creating holders for original name lists to correct at the end of the function.\n",
    "    driverCopy = currentDrivers.copy()\n",
    "    clientCopy = currentClients.copy()\n",
    "    random.shuffle(driverCopy)\n",
    "    shortestDistance = None\n",
    "    shortestClient = None\n",
    "    #First run through list of drivers. Initializes dictionaries and assigns\n",
    "    #1 client to each driver until clients list is empty.\n",
    "    for driver in driverCopy:\n",
    "        if clientCopy:\n",
    "            shortestDistance = distances.loc[driver][clientCopy[0]]\n",
    "            shortestClient = clientCopy[0]\n",
    "            for client in clientCopy:\n",
    "                if distances.loc[driver][client] < shortestDistance:\n",
    "                    shortestDistance = distances.loc[driver][client]\n",
    "                    shortestClient = client\n",
    "            if shortestClient:\n",
    "                newSchedule.update({driver:{shortestClient:shortestDistance}})\n",
    "        try:\n",
    "            clientCopy.remove(shortestClient)\n",
    "            shortestClient = None\n",
    "            shortestDistance = None\n",
    "        except:\n",
    "            pass\n",
    "    #Runs if there are still clients that need to be assigned after the first \n",
    "    #runthrough\n",
    "    while clientCopy:\n",
    "        random.shuffle(driverCopy)\n",
    "        shortestDistance = None\n",
    "        shortestClient = None\n",
    "        for driver in driverCopy:\n",
    "            if clientCopy:\n",
    "                shortestDistance = distances.loc[driver][clientCopy[0]]\n",
    "                shortestClient = clientCopy[0]\n",
    "                for client in clientCopy:\n",
    "                    if distances.loc[driver][client] < shortestDistance:\n",
    "                        shortestDistance = distances.loc[driver][client]\n",
    "                        shortestClient = client\n",
    "                if shortestClient:\n",
    "                    temp = newSchedule[driver]\n",
    "                    temp.update({shortestClient:shortestDistance})\n",
    "                    newSchedule.update({driver:temp})\n",
    "            try:\n",
    "                clientCopy.remove(shortestClient)\n",
    "                shortestClient = None\n",
    "                shortestDistance = None\n",
    "            except:\n",
    "                pass\n",
    "    return newSchedule\n",
    "\n",
    "#returns total distance of a schedule\n",
    "def TotalMeters(currentSchedule):\n",
    "    totalMeters = 0\n",
    "    keys = currentSchedule.keys()\n",
    "    for key in keys:\n",
    "        temp = currentSchedule.get(key)\n",
    "        totalMeters = totalMeters + sum(temp.values())\n",
    "    return totalMeters\n",
    "\n",
    "# runs 30 schedules and returns the most optimal one.\n",
    "def Optimizer(currentDrivers, currentClients):\n",
    "    iterations = 30\n",
    "    currentBest = Schedule(currentDrivers,currentClients)\n",
    "    currentBestMeters = TotalMeters(currentBest)\n",
    "    for i in range(1,iterations):\n",
    "        currSchedule = Schedule(currentDrivers, currentClients)\n",
    "        currMeters = TotalMeters(currSchedule)\n",
    "        if currMeters < currentBestMeters:\n",
    "            currentBestMeters = currMeters\n",
    "            currentBest = currSchedule\n",
    "    return currentBest, currentBestMeters\n",
    "\n",
    "def PickupsView(currentDrivers, currentClients):\n",
    "    best, bestMeters = Optimizer(currentDrivers, currentClients)\n",
    "    print(bestMeters)\n",
    "    print(\"The best found schedule has \" + str(int((bestMeters.item() / 1000))) + \"km of distance between clients and driver locations\")\n",
    "    print(\"\")\n",
    "    print(\"drivers by distance in meters:\")\n",
    "    for driver in best:\n",
    "        print(driver)\n",
    "        print(\"    \" + str(best[driver]))\n",
    "    print(\"\")\n",
    "    print(\"list without distances\")\n",
    "    for driver in best:\n",
    "        print(driver)\n",
    "        drives = best[driver].keys()\n",
    "        for client in drives:\n",
    "            print(\"     \" + client)\n",
    "\n",
    "def SingleRun(currentDrivers, currentClients):\n",
    "    current = Schedule(currentDrivers, currentClients)\n",
    "    meters = TotalMeters(current)\n",
    "    print(meters)\n",
    "    print(\"This schedule has \" + str(int((meters.item() / 1000))) + \"km of distance between clients and driver locations\")\n",
    "    print(\"\")\n",
    "    for driver in current:\n",
    "        print(driver)\n",
    "        drives = current[driver].keys()\n",
    "        for client in drives:\n",
    "            print(\"     \" + client)"
   ]
  },
  {
   "cell_type": "markdown",
   "metadata": {},
   "source": [
    "## Output"
   ]
  },
  {
   "cell_type": "code",
   "execution_count": 210,
   "metadata": {},
   "outputs": [
    {
     "name": "stdout",
     "output_type": "stream",
     "text": [
      "16027\n",
      "This schedule has 16km of distance between clients and driver locations\n",
      "\n",
      "JaquesCousteau\n",
      "     johnnytheMan\n",
      "     HenriettaThefifth\n",
      "maxmcbain\n",
      "     jeremyklassen\n"
     ]
    }
   ],
   "source": [
    "SingleRun(currentDrivers, currentClients)"
   ]
  },
  {
   "cell_type": "code",
   "execution_count": 209,
   "metadata": {},
   "outputs": [
    {
     "name": "stdout",
     "output_type": "stream",
     "text": [
      "11095\n",
      "The best found schedule has 11km of distance between clients and driver locations\n",
      "\n",
      "drivers by distance in meters:\n",
      "JaquesCousteau\n",
      "    {'johnnytheMan': 979}\n",
      "maxmcbain\n",
      "    {'jeremyklassen': 3048, 'HenriettaThefifth': 7068}\n",
      "\n",
      "list without distances\n",
      "JaquesCousteau\n",
      "     johnnytheMan\n",
      "maxmcbain\n",
      "     jeremyklassen\n",
      "     HenriettaThefifth\n"
     ]
    }
   ],
   "source": [
    "PickupsView(currentDrivers, currentClients)"
   ]
  },
  {
   "cell_type": "code",
   "execution_count": null,
   "metadata": {},
   "outputs": [],
   "source": []
  }
 ],
 "metadata": {
  "kernelspec": {
   "display_name": "Python 3 (ipykernel)",
   "language": "python",
   "name": "python3"
  },
  "language_info": {
   "codemirror_mode": {
    "name": "ipython",
    "version": 3
   },
   "file_extension": ".py",
   "mimetype": "text/x-python",
   "name": "python",
   "nbconvert_exporter": "python",
   "pygments_lexer": "ipython3",
   "version": "3.9.7"
  },
  "vscode": {
   "interpreter": {
    "hash": "31f2aee4e71d21fbe5cf8b01ff0e069b9275f58929596ceb00d14d90e3e16cd6"
   }
  }
 },
 "nbformat": 4,
 "nbformat_minor": 4
}
