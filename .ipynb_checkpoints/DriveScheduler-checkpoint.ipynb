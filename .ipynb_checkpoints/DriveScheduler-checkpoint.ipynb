{
 "cells": [
  {
   "cell_type": "markdown",
   "metadata": {},
   "source": [
    "# Drive Scheduler"
   ]
  },
  {
   "cell_type": "markdown",
   "metadata": {},
   "source": [
    "### Library Imports and initial setups"
   ]
  },
  {
   "cell_type": "code",
   "execution_count": 1,
   "metadata": {},
   "outputs": [],
   "source": [
    "import pandas as pd\n",
    "import random"
   ]
  },
  {
   "cell_type": "code",
   "execution_count": 2,
   "metadata": {},
   "outputs": [],
   "source": [
    "drivers = pd.read_excel('data.xlsx', sheet_name='drivers')\n",
    "clients = pd.read_excel('data.xlsx', sheet_name='clients')\n",
    "distances = pd.read_excel('data.xlsx', sheet_name='distances')\n",
    "distances = distances.set_index(distances.columns[0])"
   ]
  },
  {
   "cell_type": "code",
   "execution_count": 3,
   "metadata": {},
   "outputs": [],
   "source": [
    "clientId = []\n",
    "for row in clients.iterrows():\n",
    "    clientId.append(row[1]['id'])\n",
    "driverId = []\n",
    "for row in drivers.iterrows():\n",
    "    driverId.append(row[1]['id'])\n"
   ]
  },
  {
   "cell_type": "markdown",
   "metadata": {},
   "source": [
    "### Morning Pickups Algorithm"
   ]
  },
  {
   "cell_type": "code",
   "execution_count": 4,
   "metadata": {},
   "outputs": [],
   "source": [
    "#Variables\n",
    "currentClients = clientId.copy()\n",
    "currentDrivers = driverId.copy()\n",
    "schedule = {}\n",
    "\n",
    "#initialize schedule dictionary\n",
    "for driver in currentDrivers:\n",
    "    schedule.update({driver:\"\"})\n",
    "\n",
    "#How many double drives are needed\n",
    "dDrives = len(clientId) - len(driverId)\n",
    "\n",
    "#create a dataframe of client distances\n",
    "cDistances = pd.DataFrame()\n",
    "        \n"
   ]
  },
  {
   "cell_type": "code",
   "execution_count": 13,
   "metadata": {},
   "outputs": [],
   "source": [
    "#Creates a Schedule using a greedy modelled algorithm\n",
    "def Schedule():\n",
    "    newSchedule = {}\n",
    "    currentClients = clientId.copy()\n",
    "    currentDrivers = driverId.copy()\n",
    "    random.shuffle(currentDrivers)\n",
    "    shortestDistance = None\n",
    "    shortestClient = None\n",
    "    #First run through list of drivers. Initializes dictionaries and assigns\n",
    "    #1 client to each driver until clients list is empty.\n",
    "    for driver in currentDrivers:\n",
    "        if currentClients:\n",
    "            shortestDistance = distances.loc[driver][currentClients[0]]\n",
    "            shortestClient = currentClients[0]\n",
    "            for client in currentClients:\n",
    "                if distances.loc[driver][client] < shortestDistance:\n",
    "                    shortestDistance = distances.loc[driver][client]\n",
    "                    shortestClient = client\n",
    "            if shortestClient:\n",
    "                newSchedule.update({driver:{shortestClient:shortestDistance}})\n",
    "        try:\n",
    "            currentClients.remove(shortestClient)\n",
    "            shortestClient = None\n",
    "            shortestDistance = None\n",
    "        except:\n",
    "            pass\n",
    "    #Runs if there are still clients that need to be assigned after the first \n",
    "    runthrough\n",
    "    while currentClients:\n",
    "        random.shuffle(currentDrivers)\n",
    "        shortestDistance = None\n",
    "        shortestClient = None\n",
    "        for driver in currentDrivers:\n",
    "            if currentClients:\n",
    "                shortestDistance = distances.loc[driver][currentClients[0]]\n",
    "                shortestClient = currentClients[0]\n",
    "                for client in currentClients:\n",
    "                    if distances.loc[driver][client] < shortestDistance:\n",
    "                        shortestDistance = distances.loc[driver][client]\n",
    "                        shortestClient = client\n",
    "                if shortestClient:\n",
    "                    temp = newSchedule[driver]\n",
    "                    temp.update({shortestClient:shortestDistance})\n",
    "                    newSchedule.update({driver:temp})\n",
    "            try:\n",
    "                currentClients.remove(shortestClient)\n",
    "                shortestClient = None\n",
    "                shortestDistance = None\n",
    "            except:\n",
    "                pass\n",
    "            \n",
    "    return newSchedule"
   ]
  },
  {
   "cell_type": "code",
   "execution_count": 6,
   "metadata": {},
   "outputs": [],
   "source": [
    "#returns total distance of a schedule\n",
    "def TotalMeters(currentSchedule):\n",
    "    totalMeters = 0\n",
    "    keys = currentSchedule.keys()\n",
    "    for key in keys:\n",
    "        temp = currentSchedule.get(key)\n",
    "        totalMeters = totalMeters + sum(temp.values())\n",
    "    return totalMeters"
   ]
  },
  {
   "cell_type": "code",
   "execution_count": 18,
   "metadata": {},
   "outputs": [],
   "source": [
    "# runs 30 schedules and returns the most optimal one.\n",
    "def Optimizer():\n",
    "    iterations = 30\n",
    "    currentBest = Schedule()\n",
    "    currentBestMeters = TotalMeters(currentBest)\n",
    "    for i in range(1,iterations):\n",
    "        currSchedule = Schedule()\n",
    "        currMeters = TotalMeters(currSchedule)\n",
    "        if currMeters < currentBestMeters:\n",
    "            currentBestMeters = currMeters\n",
    "            currentBest = currSchedule\n",
    "    return currentBest, currentBestMeters"
   ]
  },
  {
   "cell_type": "code",
   "execution_count": 31,
   "metadata": {},
   "outputs": [
    {
     "name": "stdout",
     "output_type": "stream",
     "text": [
      "The best found schedule has 41km of distance between clients and driver locations\n",
      "\n",
      "drivers by distance in meters:\n",
      "maxmcbain drives: \n",
      "    {'timmytheKid': 1068, 'HerthaTheFourth': 6077, 'MartyMcFly': 9370}\n",
      "ThirdyMcThirdface drives: \n",
      "    {'johnnytheMan': 979, 'timmyTam': 7027}\n",
      "billybilborne drives: \n",
      "    {'jeremyklassen': 7599, 'HenriettaThefifth': 9783}\n"
     ]
    }
   ],
   "source": [
    "def View():\n",
    "    best, bestMeters = Optimizer()\n",
    "    print(\"The best found schedule has \" + str(int((bestMeters.item() / 1000))) + \"km of distance between clients and driver locations\")\n",
    "    print(\"\")\n",
    "    print(\"drivers by distance in meters:\")\n",
    "    for driver in best:\n",
    "        print(driver + \" drives: \")\n",
    "        print(\"    \" + str(best[driver]))\n",
    "View()"
   ]
  },
  {
   "cell_type": "code",
   "execution_count": null,
   "metadata": {},
   "outputs": [],
   "source": []
  }
 ],
 "metadata": {
  "kernelspec": {
   "display_name": "Python 3 (ipykernel)",
   "language": "python",
   "name": "python3"
  },
  "language_info": {
   "codemirror_mode": {
    "name": "ipython",
    "version": 3
   },
   "file_extension": ".py",
   "mimetype": "text/x-python",
   "name": "python",
   "nbconvert_exporter": "python",
   "pygments_lexer": "ipython3",
   "version": "3.9.7"
  },
  "vscode": {
   "interpreter": {
    "hash": "31f2aee4e71d21fbe5cf8b01ff0e069b9275f58929596ceb00d14d90e3e16cd6"
   }
  }
 },
 "nbformat": 4,
 "nbformat_minor": 4
}
