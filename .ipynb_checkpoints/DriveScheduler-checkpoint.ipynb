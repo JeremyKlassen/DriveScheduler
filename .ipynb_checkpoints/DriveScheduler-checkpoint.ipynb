{
 "cells": [
  {
   "cell_type": "markdown",
   "metadata": {},
   "source": [
    "# Drive Scheduler"
   ]
  },
  {
   "cell_type": "markdown",
   "metadata": {},
   "source": [
    "### Library Imports and initial setups"
   ]
  },
  {
   "cell_type": "code",
   "execution_count": null,
   "metadata": {},
   "outputs": [],
   "source": [
    "# Create imports\n",
    "import pandas as pd\n",
    "import random\n",
    "\n",
    "# Read excel tables into python\n",
    "drivers = pd.read_excel('data.xlsx', sheet_name='drivers')\n",
    "clients = pd.read_excel('data.xlsx', sheet_name='clients')\n",
    "distances = pd.read_excel('data.xlsx', sheet_name='distances')\n",
    "distances = distances.set_index(distances.columns[0])\n",
    "\n",
    "# create Arrays of client and driver ids.\n",
    "clientId = []\n",
    "for row in clients.iterrows():\n",
    "    clientId.append(row[1]['id'])\n",
    "driverId = []\n",
    "for row in drivers.iterrows():\n",
    "    driverId.append(row[1]['id'])\n",
    "\n",
    "\n",
    "# Variables\n",
    "currentClients = clientId.copy()\n",
    "currentDrivers = driverId.copy()\n",
    "schedule = {}\n",
    "\n",
    "# Initialize schedule dictionary\n",
    "for driver in currentDrivers:\n",
    "    schedule.update({driver:\"\"})"
   ]
  },
  {
   "cell_type": "markdown",
   "metadata": {},
   "source": [
    "### Morning Pickups Algorithm"
   ]
  },
  {
   "cell_type": "code",
   "execution_count": null,
   "metadata": {},
   "outputs": [],
   "source": [
    "#Creates a Schedule using a greedy modelled algorithm\n",
    "def Schedule():\n",
    "    newSchedule = {}\n",
    "    currentClients = clientId.copy()\n",
    "    currentDrivers = driverId.copy()\n",
    "    random.shuffle(currentDrivers)\n",
    "    shortestDistance = None\n",
    "    shortestClient = None\n",
    "    #First run through list of drivers. Initializes dictionaries and assigns\n",
    "    #1 client to each driver until clients list is empty.\n",
    "    for driver in currentDrivers:\n",
    "        if currentClients:\n",
    "            shortestDistance = distances.loc[driver][currentClients[0]]\n",
    "            shortestClient = currentClients[0]\n",
    "            for client in currentClients:\n",
    "                if distances.loc[driver][client] < shortestDistance:\n",
    "                    shortestDistance = distances.loc[driver][client]\n",
    "                    shortestClient = client\n",
    "            if shortestClient:\n",
    "                newSchedule.update({driver:{shortestClient:shortestDistance}})\n",
    "        try:\n",
    "            currentClients.remove(shortestClient)\n",
    "            shortestClient = None\n",
    "            shortestDistance = None\n",
    "        except:\n",
    "            pass\n",
    "    #Runs if there are still clients that need to be assigned after the first \n",
    "    #runthrough\n",
    "    while currentClients:\n",
    "        random.shuffle(currentDrivers)\n",
    "        shortestDistance = None\n",
    "        shortestClient = None\n",
    "        for driver in currentDrivers:\n",
    "            if currentClients:\n",
    "                shortestDistance = distances.loc[driver][currentClients[0]]\n",
    "                shortestClient = currentClients[0]\n",
    "                for client in currentClients:\n",
    "                    if distances.loc[driver][client] < shortestDistance:\n",
    "                        shortestDistance = distances.loc[driver][client]\n",
    "                        shortestClient = client\n",
    "                if shortestClient:\n",
    "                    temp = newSchedule[driver]\n",
    "                    temp.update({shortestClient:shortestDistance})\n",
    "                    newSchedule.update({driver:temp})\n",
    "            try:\n",
    "                currentClients.remove(shortestClient)\n",
    "                shortestClient = None\n",
    "                shortestDistance = None\n",
    "            except:\n",
    "                pass\n",
    "            \n",
    "    return newSchedule\n",
    "\n",
    "#returns total distance of a schedule\n",
    "def TotalMeters(currentSchedule):\n",
    "    totalMeters = 0\n",
    "    keys = currentSchedule.keys()\n",
    "    for key in keys:\n",
    "        temp = currentSchedule.get(key)\n",
    "        totalMeters = totalMeters + sum(temp.values())\n",
    "    return totalMeters\n",
    "\n",
    "# runs 30 schedules and returns the most optimal one.\n",
    "def Optimizer():\n",
    "    iterations = 30\n",
    "    currentBest = Schedule()\n",
    "    currentBestMeters = TotalMeters(currentBest)\n",
    "    for i in range(1,iterations):\n",
    "        currSchedule = Schedule()\n",
    "        currMeters = TotalMeters(currSchedule)\n",
    "        if currMeters < currentBestMeters:\n",
    "            currentBestMeters = currMeters\n",
    "            currentBest = currSchedule\n",
    "    return currentBest, currentBestMeters\n",
    "\n",
    "def PickupsView():\n",
    "    best, bestMeters = Optimizer()\n",
    "    print(\"The best found schedule has \" + str(int((bestMeters.item() / 1000))) + \"km of distance between clients and driver locations\")\n",
    "    print(\"\")\n",
    "    print(\"drivers by distance in meters:\")\n",
    "    for driver in best:\n",
    "        print(driver + \" drives: \")\n",
    "        print(\"    \" + str(best[driver]))\n",
    "\n",
    "def SingleRun():\n",
    "    current = Schedule()\n",
    "    meters = TotalMeters(current)\n",
    "    print(\"This schedule has \" + str(int((meters.item() / 1000))) + \"km of distance between clients and driver locations\")\n",
    "    print(\"\")\n",
    "    for driver in current:\n",
    "        print(driver + \" drives: \")\n",
    "        print(\"    \" + str(current[driver]))"
   ]
  },
  {
   "cell_type": "markdown",
   "metadata": {},
   "source": [
    "## Output"
   ]
  },
  {
   "cell_type": "code",
   "execution_count": null,
   "metadata": {},
   "outputs": [],
   "source": [
    "PickupsView()"
   ]
  },
  {
   "cell_type": "code",
   "execution_count": null,
   "metadata": {},
   "outputs": [],
   "source": [
    "SingleRun()"
   ]
  },
  {
   "cell_type": "code",
   "execution_count": null,
   "metadata": {},
   "outputs": [],
   "source": []
  }
 ],
 "metadata": {
  "kernelspec": {
   "display_name": "Python 3 (ipykernel)",
   "language": "python",
   "name": "python3"
  },
  "language_info": {
   "codemirror_mode": {
    "name": "ipython",
    "version": 3
   },
   "file_extension": ".py",
   "mimetype": "text/x-python",
   "name": "python",
   "nbconvert_exporter": "python",
   "pygments_lexer": "ipython3",
   "version": "3.9.7"
  },
  "vscode": {
   "interpreter": {
    "hash": "31f2aee4e71d21fbe5cf8b01ff0e069b9275f58929596ceb00d14d90e3e16cd6"
   }
  }
 },
 "nbformat": 4,
 "nbformat_minor": 4
}
