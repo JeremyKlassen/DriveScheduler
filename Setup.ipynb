{
 "cells": [
  {
   "cell_type": "markdown",
   "id": "de333d6d-493b-4df7-b557-14b9c2054a69",
   "metadata": {},
   "source": [
    "# Setup\n",
    "\n",
    "### - This notebook does 2 things. First it installs files needed to run the notebooks in Drive Scheduler, and second it updates the \n",
    "\n",
    "##### The cell below installs files that are needed for Drive Scheduler to work properly. This only needs to be done only once on your device."
   ]
  },
  {
   "cell_type": "code",
   "execution_count": null,
   "id": "30d25c60-7d5c-4fdc-8428-a1ebafda79c0",
   "metadata": {},
   "outputs": [],
   "source": [
    "!pip install pandas\n",
    "!pip install ipywidgets\n",
    "!pip install haversine"
   ]
  },
  {
   "attachments": {},
   "cell_type": "markdown",
   "id": "6fac3592-c470-4029-b527-48800d9a110b",
   "metadata": {},
   "source": [
    "##### This cell calculates (or recalculates) all distances on your data.xlsx spreadsheet.\n",
    "##### It will base the calculations off of the Lat and Long coordinates you provide on each client and driver row. note - coordinates can be easily found on google maps by right clicking or long pressing on any spot on the map."
   ]
  },
  {
   "cell_type": "code",
   "execution_count": 4,
   "id": "3c731ab7-2745-49db-81e0-1282b1c09f50",
   "metadata": {},
   "outputs": [],
   "source": [
    "import pandas as pd\n",
    "from haversine import haversine, Unit\n",
    "\n",
    "\n",
    "# Declaring Variables\n",
    "clients = pd.read_excel('data.xlsx', sheet_name='clients')\n",
    "drivers = pd.read_excel('data.xlsx', sheet_name='drivers')\n",
    "\n",
    "ids = []\n",
    "for i in range(len(clients.index)):\n",
    "    ids.append(clients.iloc[i][\"id\"])\n",
    "for i in range(len(drivers.index)):\n",
    "    ids.append(drivers.iloc[i][\"id\"])\n",
    "\n",
    "distances = pd.DataFrame(0, index=ids, columns=ids)\n",
    "\n",
    "for i in ids:\n",
    "    for j in ids:\n",
    "        try:\n",
    "            coords1Lat = float(clients.loc[clients[\"id\"]==i][\"lat\"])\n",
    "            coords1Long = float(clients.loc[clients[\"id\"]==i][\"long\"])\n",
    "\n",
    "        except:\n",
    "            coords1Lat = float(drivers.loc[drivers[\"id\"]==i][\"lat\"])\n",
    "            coords1Long = float(drivers.loc[drivers[\"id\"]==i][\"long\"])\n",
    "        try:\n",
    "            coords2Lat = float(clients.loc[clients[\"id\"]==j][\"lat\"])\n",
    "            coords2Long = float(clients.loc[clients[\"id\"]==j][\"long\"])\n",
    "        except:\n",
    "            coords2Lat = float(drivers.loc[drivers[\"id\"]==j][\"lat\"])\n",
    "            coords2Long = float(drivers.loc[drivers[\"id\"]==j][\"long\"])\n",
    "        \n",
    "        coords1 = (coords1Lat, coords1Long)\n",
    "        coords2 = (coords2Lat, coords2Long)\n",
    "\n",
    "        newDistance = int(haversine(coords1, coords2, unit=Unit.METERS))\n",
    "        distances[i][j] = newDistance\n",
    "\n",
    "with pd.ExcelWriter('data.xlsx', engine=\"openpyxl\",if_sheet_exists=\"replace\", mode=\"a\") as writer:\n",
    "    distances.to_excel(writer, sheet_name='distances', index=True)"
   ]
  },
  {
   "cell_type": "code",
   "execution_count": null,
   "id": "83b2b784-b609-4a37-93a3-bda95ee80ad7",
   "metadata": {},
   "outputs": [],
   "source": []
  }
 ],
 "metadata": {
  "kernelspec": {
   "display_name": "Python 3 (ipykernel)",
   "language": "python",
   "name": "python3"
  },
  "language_info": {
   "codemirror_mode": {
    "name": "ipython",
    "version": 3
   },
   "file_extension": ".py",
   "mimetype": "text/x-python",
   "name": "python",
   "nbconvert_exporter": "python",
   "pygments_lexer": "ipython3",
   "version": "3.9.7"
  }
 },
 "nbformat": 4,
 "nbformat_minor": 5
}
